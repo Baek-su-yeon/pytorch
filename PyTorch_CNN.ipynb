{
  "nbformat": 4,
  "nbformat_minor": 0,
  "metadata": {
    "colab": {
      "provenance": [],
      "authorship_tag": "ABX9TyNWY33f7TktN4/iyYSymOZy",
      "include_colab_link": true
    },
    "kernelspec": {
      "name": "python3",
      "display_name": "Python 3"
    },
    "language_info": {
      "name": "python"
    }
  },
  "cells": [
    {
      "cell_type": "markdown",
      "metadata": {
        "id": "view-in-github",
        "colab_type": "text"
      },
      "source": [
        "<a href=\"https://colab.research.google.com/github/Baek-su-yeon/pytorch/blob/main/PyTorch_CNN.ipynb\" target=\"_parent\"><img src=\"https://colab.research.google.com/assets/colab-badge.svg\" alt=\"Open In Colab\"/></a>"
      ]
    },
    {
      "cell_type": "markdown",
      "source": [
        "#**Libray import**"
      ],
      "metadata": {
        "id": "8N8uHreWZvQ6"
      }
    },
    {
      "cell_type": "code",
      "source": [
        "import torch\n",
        "import torch.nn as nn\n",
        "import torchvision\n",
        "import torchvision.transforms as transforms"
      ],
      "metadata": {
        "id": "vKKTBvyRZuIH"
      },
      "execution_count": 2,
      "outputs": []
    },
    {
      "cell_type": "markdown",
      "source": [
        "#**Check the GPU**"
      ],
      "metadata": {
        "id": "rqEDzHTuaDOd"
      }
    },
    {
      "cell_type": "code",
      "execution_count": 3,
      "metadata": {
        "id": "BzxmdBo0Zd-6"
      },
      "outputs": [],
      "source": [
        "device = torch.device('cude' if torch.cuda.is_available() else \"cpu\")\n",
        "#device = 'cuda' if torch.cuda.is_available() else 'cpu'"
      ]
    },
    {
      "cell_type": "markdown",
      "source": [
        "#**Hyper prameter**"
      ],
      "metadata": {
        "id": "G9QSQ_AXbPif"
      }
    },
    {
      "cell_type": "code",
      "source": [
        "num_epochs = 5\n",
        "num_classes = 10\n",
        "batch_size = 100\n",
        "learning_rate = 0.001"
      ],
      "metadata": {
        "id": "SOH-NExzaZIH"
      },
      "execution_count": 4,
      "outputs": []
    },
    {
      "cell_type": "markdown",
      "source": [
        "#**MNIST dataset**"
      ],
      "metadata": {
        "id": "_kqtsDKobeHS"
      }
    },
    {
      "cell_type": "code",
      "source": [
        "train_dataset = torchvision.datasets.MNIST(\n",
        "    root = '../../data/',\n",
        "    train = True,\n",
        "    transform = transforms.ToTensor(),\n",
        "    download = True\n",
        ")\n",
        "\n",
        "test_dataset = torchvision.datasets.MNIST(\n",
        "    root = '../../data/',\n",
        "    train = False,\n",
        "    transform = transforms.ToTensor()\n",
        ")\n",
        "\n",
        "#Data loader\n",
        "train_loader = torch.utils.data.DataLoader(\n",
        "    dataset = train_dataset,\n",
        "    batch_size = batch_size,\n",
        "    shuffle = True\n",
        ")\n",
        "\n",
        "test_loader = torch.utils.data.DataLoader(\n",
        "    dataset = test_dataset,\n",
        "    batch_size = batch_size,\n",
        "    shuffle = False\n",
        ")"
      ],
      "metadata": {
        "id": "lIWITTqsbiZ8"
      },
      "execution_count": 13,
      "outputs": []
    },
    {
      "cell_type": "code",
      "source": [
        "train_dataset"
      ],
      "metadata": {
        "colab": {
          "base_uri": "https://localhost:8080/"
        },
        "id": "8-xFRQJ4hlf8",
        "outputId": "c08a1623-137a-40b9-a099-3a737125c983"
      },
      "execution_count": 14,
      "outputs": [
        {
          "output_type": "execute_result",
          "data": {
            "text/plain": [
              "Dataset MNIST\n",
              "    Number of datapoints: 60000\n",
              "    Root location: ../../data/\n",
              "    Split: Train\n",
              "    StandardTransform\n",
              "Transform: ToTensor()"
            ]
          },
          "metadata": {},
          "execution_count": 14
        }
      ]
    },
    {
      "cell_type": "code",
      "source": [
        "test_dataset"
      ],
      "metadata": {
        "colab": {
          "base_uri": "https://localhost:8080/"
        },
        "id": "WH4_TnkghlVg",
        "outputId": "9383c4a3-a239-4696-dd07-f7666f7da8c9"
      },
      "execution_count": 15,
      "outputs": [
        {
          "output_type": "execute_result",
          "data": {
            "text/plain": [
              "Dataset MNIST\n",
              "    Number of datapoints: 10000\n",
              "    Root location: ../../data/\n",
              "    Split: Test\n",
              "    StandardTransform\n",
              "Transform: ToTensor()"
            ]
          },
          "metadata": {},
          "execution_count": 15
        }
      ]
    },
    {
      "cell_type": "markdown",
      "source": [
        "#**CNN Model**"
      ],
      "metadata": {
        "id": "6RsjSFC1hrso"
      }
    },
    {
      "cell_type": "code",
      "source": [
        "class ConvNet(nn.Module):\n",
        "  def __init__(self, num_classes=10):\n",
        "    super(ConvNet, self).__init__()\n",
        "    self.layer1 = nn.Sequential(\n",
        "        nn.Conv2d(1, 16, kernel_size=5, stride=1,padding=2),\n",
        "        nn.BatchNorm2d(16),\n",
        "        nn.ReLU(),\n",
        "        nn.MaxPool2d(kernel_size=2, stride=2))\n",
        "    self.layer2 = nn.Sequential(\n",
        "        nn.Conv2d(16,32, kernel_size=5, stride=1, padding=2),\n",
        "        nn.BatchNorm2d(32),\n",
        "        nn.ReLU(),\n",
        "        nn.MaxPool2d(kernel_size=2, stride=2))\n",
        "    self.fc = nn.Linear(7*7*32, num_classes)\n",
        "\n",
        "  def forward(self, x):\n",
        "    out = self.layer1(x)\n",
        "    out = self.layer2(out)\n",
        "    out = out.reshape(out.size(0),-1)\n",
        "    out = self.fc(out)\n",
        "    return out\n",
        "\n",
        "model = ConvNet(num_classes).to(device)"
      ],
      "metadata": {
        "id": "xxwS314UiMyl"
      },
      "execution_count": 16,
      "outputs": []
    },
    {
      "cell_type": "markdown",
      "source": [
        "#**Loss function and optimizer**"
      ],
      "metadata": {
        "id": "SjjCeIB5kfPx"
      }
    },
    {
      "cell_type": "code",
      "source": [
        "criterion = nn.CrossEntropyLoss()\n",
        "optimizer = torch.optim.Adam(model.parameters(), lr=learning_rate)"
      ],
      "metadata": {
        "id": "CUDx9cxCkmE-"
      },
      "execution_count": 19,
      "outputs": []
    },
    {
      "cell_type": "markdown",
      "source": [
        "#**Training**"
      ],
      "metadata": {
        "id": "Ng8ALd3fk-Tt"
      }
    },
    {
      "cell_type": "code",
      "source": [
        " total_step = len(train_loader)\n",
        " for epoch in range(num_epochs):\n",
        "    for i, (images, labels) in enumerate(train_loader):\n",
        "        images = images.to(device)\n",
        "        labels = labels.to(device)\n",
        "\n",
        "        outputs = model(images)\n",
        "        loss = criterion(outputs, labels)\n",
        "\n",
        "        optimizer.zero_grad()\n",
        "        loss.backward()\n",
        "        optimizer.step()\n",
        "\n",
        "        if(i+1) % 100 == 0:\n",
        "            print(f'Epoch[{epoch+1}/{num_epochs}], step[{i+1}/{total_step}], Loss:{loss.item():4f}')"
      ],
      "metadata": {
        "colab": {
          "base_uri": "https://localhost:8080/"
        },
        "id": "f12dd0GRlAOk",
        "outputId": "58b80625-5d6d-4cb5-f576-3545a4ff78ef"
      },
      "execution_count": 21,
      "outputs": [
        {
          "output_type": "stream",
          "name": "stdout",
          "text": [
            "Epoch[1/5], step[100/600], Loss:0.077605\n",
            "Epoch[1/5], step[200/600], Loss:0.081379\n",
            "Epoch[1/5], step[300/600], Loss:0.032933\n",
            "Epoch[1/5], step[400/600], Loss:0.094864\n",
            "Epoch[1/5], step[500/600], Loss:0.041626\n",
            "Epoch[1/5], step[600/600], Loss:0.017661\n",
            "Epoch[2/5], step[100/600], Loss:0.007371\n",
            "Epoch[2/5], step[200/600], Loss:0.039709\n",
            "Epoch[2/5], step[300/600], Loss:0.036160\n",
            "Epoch[2/5], step[400/600], Loss:0.150857\n",
            "Epoch[2/5], step[500/600], Loss:0.071973\n",
            "Epoch[2/5], step[600/600], Loss:0.059023\n",
            "Epoch[3/5], step[100/600], Loss:0.026330\n",
            "Epoch[3/5], step[200/600], Loss:0.035042\n",
            "Epoch[3/5], step[300/600], Loss:0.020285\n",
            "Epoch[3/5], step[400/600], Loss:0.011697\n",
            "Epoch[3/5], step[500/600], Loss:0.012323\n",
            "Epoch[3/5], step[600/600], Loss:0.009434\n",
            "Epoch[4/5], step[100/600], Loss:0.012341\n",
            "Epoch[4/5], step[200/600], Loss:0.005439\n",
            "Epoch[4/5], step[300/600], Loss:0.013207\n",
            "Epoch[4/5], step[400/600], Loss:0.171943\n",
            "Epoch[4/5], step[500/600], Loss:0.037484\n",
            "Epoch[4/5], step[600/600], Loss:0.043490\n",
            "Epoch[5/5], step[100/600], Loss:0.050633\n",
            "Epoch[5/5], step[200/600], Loss:0.055097\n",
            "Epoch[5/5], step[300/600], Loss:0.013568\n",
            "Epoch[5/5], step[400/600], Loss:0.011409\n",
            "Epoch[5/5], step[500/600], Loss:0.006677\n",
            "Epoch[5/5], step[600/600], Loss:0.001304\n"
          ]
        }
      ]
    },
    {
      "cell_type": "markdown",
      "source": [
        "#**Test**"
      ],
      "metadata": {
        "id": "fADxG_N0rFGs"
      }
    },
    {
      "cell_type": "code",
      "source": [
        "model.eval()\n",
        "with torch.no_grad():\n",
        "  correct = 0\n",
        "  total = 0\n",
        "  for images, labels in test_loader:\n",
        "    images = images.to(device)\n",
        "    labels = labels.to(device)\n",
        "    outputs = model(images)\n",
        "    _,predicted = torch.max(outputs.data, 1)\n",
        "    total += labels.size(0)\n",
        "    correct += (predicted==labels).sum().item()\n",
        "\n",
        "    print(f'Test Accuracy of the model on the 10000 test images: {100*correct/total}')"
      ],
      "metadata": {
        "colab": {
          "base_uri": "https://localhost:8080/"
        },
        "id": "L_L_pVAurEDD",
        "outputId": "80737c10-97a7-4b57-f107-14aff388b0c0"
      },
      "execution_count": 22,
      "outputs": [
        {
          "output_type": "stream",
          "name": "stdout",
          "text": [
            "Test Accuracy of the model on the 10000 test images: 100.0\n",
            "Test Accuracy of the model on the 10000 test images: 100.0\n",
            "Test Accuracy of the model on the 10000 test images: 99.66666666666667\n",
            "Test Accuracy of the model on the 10000 test images: 99.0\n",
            "Test Accuracy of the model on the 10000 test images: 99.0\n",
            "Test Accuracy of the model on the 10000 test images: 98.83333333333333\n",
            "Test Accuracy of the model on the 10000 test images: 98.42857142857143\n",
            "Test Accuracy of the model on the 10000 test images: 98.5\n",
            "Test Accuracy of the model on the 10000 test images: 98.44444444444444\n",
            "Test Accuracy of the model on the 10000 test images: 98.4\n",
            "Test Accuracy of the model on the 10000 test images: 98.27272727272727\n",
            "Test Accuracy of the model on the 10000 test images: 98.33333333333333\n",
            "Test Accuracy of the model on the 10000 test images: 98.23076923076923\n",
            "Test Accuracy of the model on the 10000 test images: 98.21428571428571\n",
            "Test Accuracy of the model on the 10000 test images: 98.33333333333333\n",
            "Test Accuracy of the model on the 10000 test images: 98.375\n",
            "Test Accuracy of the model on the 10000 test images: 98.47058823529412\n",
            "Test Accuracy of the model on the 10000 test images: 98.44444444444444\n",
            "Test Accuracy of the model on the 10000 test images: 98.52631578947368\n",
            "Test Accuracy of the model on the 10000 test images: 98.55\n",
            "Test Accuracy of the model on the 10000 test images: 98.47619047619048\n",
            "Test Accuracy of the model on the 10000 test images: 98.36363636363636\n",
            "Test Accuracy of the model on the 10000 test images: 98.3913043478261\n",
            "Test Accuracy of the model on the 10000 test images: 98.41666666666667\n",
            "Test Accuracy of the model on the 10000 test images: 98.4\n",
            "Test Accuracy of the model on the 10000 test images: 98.42307692307692\n",
            "Test Accuracy of the model on the 10000 test images: 98.44444444444444\n",
            "Test Accuracy of the model on the 10000 test images: 98.5\n",
            "Test Accuracy of the model on the 10000 test images: 98.51724137931035\n",
            "Test Accuracy of the model on the 10000 test images: 98.46666666666667\n",
            "Test Accuracy of the model on the 10000 test images: 98.45161290322581\n",
            "Test Accuracy of the model on the 10000 test images: 98.5\n",
            "Test Accuracy of the model on the 10000 test images: 98.51515151515152\n",
            "Test Accuracy of the model on the 10000 test images: 98.55882352941177\n",
            "Test Accuracy of the model on the 10000 test images: 98.57142857142857\n",
            "Test Accuracy of the model on the 10000 test images: 98.52777777777777\n",
            "Test Accuracy of the model on the 10000 test images: 98.56756756756756\n",
            "Test Accuracy of the model on the 10000 test images: 98.52631578947368\n",
            "Test Accuracy of the model on the 10000 test images: 98.48717948717949\n",
            "Test Accuracy of the model on the 10000 test images: 98.5\n",
            "Test Accuracy of the model on the 10000 test images: 98.53658536585365\n",
            "Test Accuracy of the model on the 10000 test images: 98.54761904761905\n",
            "Test Accuracy of the model on the 10000 test images: 98.53488372093024\n",
            "Test Accuracy of the model on the 10000 test images: 98.54545454545455\n",
            "Test Accuracy of the model on the 10000 test images: 98.57777777777778\n",
            "Test Accuracy of the model on the 10000 test images: 98.56521739130434\n",
            "Test Accuracy of the model on the 10000 test images: 98.59574468085107\n",
            "Test Accuracy of the model on the 10000 test images: 98.5625\n",
            "Test Accuracy of the model on the 10000 test images: 98.53061224489795\n",
            "Test Accuracy of the model on the 10000 test images: 98.54\n",
            "Test Accuracy of the model on the 10000 test images: 98.56862745098039\n",
            "Test Accuracy of the model on the 10000 test images: 98.57692307692308\n",
            "Test Accuracy of the model on the 10000 test images: 98.60377358490567\n",
            "Test Accuracy of the model on the 10000 test images: 98.62962962962963\n",
            "Test Accuracy of the model on the 10000 test images: 98.65454545454546\n",
            "Test Accuracy of the model on the 10000 test images: 98.67857142857143\n",
            "Test Accuracy of the model on the 10000 test images: 98.70175438596492\n",
            "Test Accuracy of the model on the 10000 test images: 98.72413793103448\n",
            "Test Accuracy of the model on the 10000 test images: 98.7457627118644\n",
            "Test Accuracy of the model on the 10000 test images: 98.71666666666667\n",
            "Test Accuracy of the model on the 10000 test images: 98.73770491803279\n",
            "Test Accuracy of the model on the 10000 test images: 98.75806451612904\n",
            "Test Accuracy of the model on the 10000 test images: 98.77777777777777\n",
            "Test Accuracy of the model on the 10000 test images: 98.796875\n",
            "Test Accuracy of the model on the 10000 test images: 98.81538461538462\n",
            "Test Accuracy of the model on the 10000 test images: 98.78787878787878\n",
            "Test Accuracy of the model on the 10000 test images: 98.77611940298507\n",
            "Test Accuracy of the model on the 10000 test images: 98.79411764705883\n",
            "Test Accuracy of the model on the 10000 test images: 98.81159420289855\n",
            "Test Accuracy of the model on the 10000 test images: 98.82857142857142\n",
            "Test Accuracy of the model on the 10000 test images: 98.84507042253522\n",
            "Test Accuracy of the model on the 10000 test images: 98.86111111111111\n",
            "Test Accuracy of the model on the 10000 test images: 98.87671232876713\n",
            "Test Accuracy of the model on the 10000 test images: 98.89189189189189\n",
            "Test Accuracy of the model on the 10000 test images: 98.90666666666667\n",
            "Test Accuracy of the model on the 10000 test images: 98.92105263157895\n",
            "Test Accuracy of the model on the 10000 test images: 98.93506493506493\n",
            "Test Accuracy of the model on the 10000 test images: 98.94871794871794\n",
            "Test Accuracy of the model on the 10000 test images: 98.9620253164557\n",
            "Test Accuracy of the model on the 10000 test images: 98.975\n",
            "Test Accuracy of the model on the 10000 test images: 98.96296296296296\n",
            "Test Accuracy of the model on the 10000 test images: 98.97560975609755\n",
            "Test Accuracy of the model on the 10000 test images: 98.98795180722891\n",
            "Test Accuracy of the model on the 10000 test images: 99.0\n",
            "Test Accuracy of the model on the 10000 test images: 99.01176470588236\n",
            "Test Accuracy of the model on the 10000 test images: 99.0\n",
            "Test Accuracy of the model on the 10000 test images: 99.01149425287356\n",
            "Test Accuracy of the model on the 10000 test images: 99.02272727272727\n",
            "Test Accuracy of the model on the 10000 test images: 99.03370786516854\n",
            "Test Accuracy of the model on the 10000 test images: 99.04444444444445\n",
            "Test Accuracy of the model on the 10000 test images: 99.04395604395604\n",
            "Test Accuracy of the model on the 10000 test images: 99.05434782608695\n",
            "Test Accuracy of the model on the 10000 test images: 99.06451612903226\n",
            "Test Accuracy of the model on the 10000 test images: 99.07446808510639\n",
            "Test Accuracy of the model on the 10000 test images: 99.08421052631579\n",
            "Test Accuracy of the model on the 10000 test images: 99.09375\n",
            "Test Accuracy of the model on the 10000 test images: 99.08247422680412\n",
            "Test Accuracy of the model on the 10000 test images: 99.07142857142857\n",
            "Test Accuracy of the model on the 10000 test images: 99.07070707070707\n",
            "Test Accuracy of the model on the 10000 test images: 99.08\n"
          ]
        }
      ]
    }
  ]
}