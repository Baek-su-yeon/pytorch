{
  "nbformat": 4,
  "nbformat_minor": 0,
  "metadata": {
    "colab": {
      "provenance": [],
      "authorship_tag": "ABX9TyPUVcZoz+zUQhUCICyJKWur",
      "include_colab_link": true
    },
    "kernelspec": {
      "name": "python3",
      "display_name": "Python 3"
    },
    "language_info": {
      "name": "python"
    }
  },
  "cells": [
    {
      "cell_type": "markdown",
      "metadata": {
        "id": "view-in-github",
        "colab_type": "text"
      },
      "source": [
        "<a href=\"https://colab.research.google.com/github/Baek-su-yeon/pytorch/blob/main/pytorch_linear_regression.ipynb\" target=\"_parent\"><img src=\"https://colab.research.google.com/assets/colab-badge.svg\" alt=\"Open In Colab\"/></a>"
      ]
    },
    {
      "cell_type": "markdown",
      "source": [
        "# **Library import**"
      ],
      "metadata": {
        "id": "mGNyLqQU4bIP"
      }
    },
    {
      "cell_type": "code",
      "execution_count": 1,
      "metadata": {
        "id": "bSKHy81k2aF5"
      },
      "outputs": [],
      "source": [
        "import torch\n",
        "import torch.nn as nn # torch neural network library\n",
        "import numpy as np\n",
        "import matplotlib.pyplot as plt #visualize library"
      ]
    },
    {
      "cell_type": "markdown",
      "source": [
        "#**Hyper parameter**"
      ],
      "metadata": {
        "id": "i3yAU9SR4meu"
      }
    },
    {
      "cell_type": "code",
      "source": [
        "input_size = 1\n",
        "ouput_size = 1 # example: Predict weight based on height\n",
        "num_epochs = 500\n",
        "learning_rate = 0.001"
      ],
      "metadata": {
        "id": "uuFdW9IF3yBn"
      },
      "execution_count": 3,
      "outputs": []
    },
    {
      "cell_type": "markdown",
      "source": [
        "#**Dataset**"
      ],
      "metadata": {
        "id": "6gNunMoi4r3O"
      }
    },
    {
      "cell_type": "code",
      "source": [
        "#y=2x\n",
        "x_train = np.array([[1],[2],[3],[4],[5]], dtype=np.float32) # input\n",
        "y_train = np.array([[2],[4],[6],[8],[10]], dtype=np.float32) # target\n",
        "x_test = np.array([[6]], dtype = np.float32)"
      ],
      "metadata": {
        "id": "xVi-CWA64q02"
      },
      "execution_count": 4,
      "outputs": []
    },
    {
      "cell_type": "markdown",
      "source": [
        "#**Model**"
      ],
      "metadata": {
        "id": "hOgbKPjm8JE9"
      }
    },
    {
      "cell_type": "code",
      "source": [
        "model = nn.Linear(input_size, ouput_size)"
      ],
      "metadata": {
        "id": "qOzcrYtZ8MWr"
      },
      "execution_count": 5,
      "outputs": []
    },
    {
      "cell_type": "markdown",
      "source": [
        "#**Loss function and Optimizer**"
      ],
      "metadata": {
        "id": "pNmFRWE38YVE"
      }
    },
    {
      "cell_type": "code",
      "source": [
        "criterion = nn.MSELoss() # loss function\n",
        "optimizer = torch.optim.SGD(model.parameters(), lr = learning_rate)"
      ],
      "metadata": {
        "id": "x20qri8y8cHM"
      },
      "execution_count": 6,
      "outputs": []
    },
    {
      "cell_type": "markdown",
      "source": [
        "#**Learning**"
      ],
      "metadata": {
        "id": "-sG46MY9oOcN"
      }
    },
    {
      "cell_type": "code",
      "source": [
        "inputs = torch.from_numpy(x_train)\n",
        "targets = torch.from_numpy(y_train)\n",
        "\n",
        "# training\n",
        "for epoch in range(num_epochs):\n",
        "  outputs = model(inputs) # predicion result (0 ~ 1)\n",
        "  loss = criterion(outputs, targets)\n",
        "\n",
        "  #backword\n",
        "  optimizer.zero_grad() # Commonly used for initalization\n",
        "  loss.backward()\n",
        "  optimizer.step()\n",
        "  # theta = theta - alpha * loss_gradient\n",
        "\n",
        "\n",
        "  if(epoch+1) % 5 == 0:\n",
        "    print(f'Epoch[{epoch+1}/{num_epochs}], Loss: {loss.item():.4f}')"
      ],
      "metadata": {
        "colab": {
          "base_uri": "https://localhost:8080/"
        },
        "id": "jGd_T5Zx83_U",
        "outputId": "49d2b711-7041-43d9-c94e-60ae6d119b8c"
      },
      "execution_count": 7,
      "outputs": [
        {
          "output_type": "stream",
          "name": "stdout",
          "text": [
            "Epoch[5/500], Loss: 89.9624\n",
            "Epoch[10/500], Loss: 70.8049\n",
            "Epoch[15/500], Loss: 55.7270\n",
            "Epoch[20/500], Loss: 43.8600\n",
            "Epoch[25/500], Loss: 34.5200\n",
            "Epoch[30/500], Loss: 27.1690\n",
            "Epoch[35/500], Loss: 21.3833\n",
            "Epoch[40/500], Loss: 16.8298\n",
            "Epoch[45/500], Loss: 13.2459\n",
            "Epoch[50/500], Loss: 10.4252\n",
            "Epoch[55/500], Loss: 8.2051\n",
            "Epoch[60/500], Loss: 6.4578\n",
            "Epoch[65/500], Loss: 5.0826\n",
            "Epoch[70/500], Loss: 4.0003\n",
            "Epoch[75/500], Loss: 3.1484\n",
            "Epoch[80/500], Loss: 2.4780\n",
            "Epoch[85/500], Loss: 1.9503\n",
            "Epoch[90/500], Loss: 1.5350\n",
            "Epoch[95/500], Loss: 1.2081\n",
            "Epoch[100/500], Loss: 0.9508\n",
            "Epoch[105/500], Loss: 0.7484\n",
            "Epoch[110/500], Loss: 0.5890\n",
            "Epoch[115/500], Loss: 0.4636\n",
            "Epoch[120/500], Loss: 0.3649\n",
            "Epoch[125/500], Loss: 0.2872\n",
            "Epoch[130/500], Loss: 0.2260\n",
            "Epoch[135/500], Loss: 0.1779\n",
            "Epoch[140/500], Loss: 0.1400\n",
            "Epoch[145/500], Loss: 0.1102\n",
            "Epoch[150/500], Loss: 0.0867\n",
            "Epoch[155/500], Loss: 0.0683\n",
            "Epoch[160/500], Loss: 0.0537\n",
            "Epoch[165/500], Loss: 0.0423\n",
            "Epoch[170/500], Loss: 0.0333\n",
            "Epoch[175/500], Loss: 0.0262\n",
            "Epoch[180/500], Loss: 0.0206\n",
            "Epoch[185/500], Loss: 0.0162\n",
            "Epoch[190/500], Loss: 0.0128\n",
            "Epoch[195/500], Loss: 0.0101\n",
            "Epoch[200/500], Loss: 0.0079\n",
            "Epoch[205/500], Loss: 0.0062\n",
            "Epoch[210/500], Loss: 0.0049\n",
            "Epoch[215/500], Loss: 0.0039\n",
            "Epoch[220/500], Loss: 0.0030\n",
            "Epoch[225/500], Loss: 0.0024\n",
            "Epoch[230/500], Loss: 0.0019\n",
            "Epoch[235/500], Loss: 0.0015\n",
            "Epoch[240/500], Loss: 0.0012\n",
            "Epoch[245/500], Loss: 0.0009\n",
            "Epoch[250/500], Loss: 0.0007\n",
            "Epoch[255/500], Loss: 0.0006\n",
            "Epoch[260/500], Loss: 0.0005\n",
            "Epoch[265/500], Loss: 0.0004\n",
            "Epoch[270/500], Loss: 0.0003\n",
            "Epoch[275/500], Loss: 0.0002\n",
            "Epoch[280/500], Loss: 0.0002\n",
            "Epoch[285/500], Loss: 0.0001\n",
            "Epoch[290/500], Loss: 0.0001\n",
            "Epoch[295/500], Loss: 0.0001\n",
            "Epoch[300/500], Loss: 0.0001\n",
            "Epoch[305/500], Loss: 0.0001\n",
            "Epoch[310/500], Loss: 0.0000\n",
            "Epoch[315/500], Loss: 0.0000\n",
            "Epoch[320/500], Loss: 0.0000\n",
            "Epoch[325/500], Loss: 0.0000\n",
            "Epoch[330/500], Loss: 0.0000\n",
            "Epoch[335/500], Loss: 0.0000\n",
            "Epoch[340/500], Loss: 0.0000\n",
            "Epoch[345/500], Loss: 0.0000\n",
            "Epoch[350/500], Loss: 0.0000\n",
            "Epoch[355/500], Loss: 0.0000\n",
            "Epoch[360/500], Loss: 0.0000\n",
            "Epoch[365/500], Loss: 0.0000\n",
            "Epoch[370/500], Loss: 0.0000\n",
            "Epoch[375/500], Loss: 0.0000\n",
            "Epoch[380/500], Loss: 0.0000\n",
            "Epoch[385/500], Loss: 0.0000\n",
            "Epoch[390/500], Loss: 0.0000\n",
            "Epoch[395/500], Loss: 0.0000\n",
            "Epoch[400/500], Loss: 0.0000\n",
            "Epoch[405/500], Loss: 0.0000\n",
            "Epoch[410/500], Loss: 0.0000\n",
            "Epoch[415/500], Loss: 0.0000\n",
            "Epoch[420/500], Loss: 0.0000\n",
            "Epoch[425/500], Loss: 0.0000\n",
            "Epoch[430/500], Loss: 0.0000\n",
            "Epoch[435/500], Loss: 0.0000\n",
            "Epoch[440/500], Loss: 0.0000\n",
            "Epoch[445/500], Loss: 0.0000\n",
            "Epoch[450/500], Loss: 0.0000\n",
            "Epoch[455/500], Loss: 0.0000\n",
            "Epoch[460/500], Loss: 0.0000\n",
            "Epoch[465/500], Loss: 0.0000\n",
            "Epoch[470/500], Loss: 0.0000\n",
            "Epoch[475/500], Loss: 0.0000\n",
            "Epoch[480/500], Loss: 0.0000\n",
            "Epoch[485/500], Loss: 0.0000\n",
            "Epoch[490/500], Loss: 0.0000\n",
            "Epoch[495/500], Loss: 0.0000\n",
            "Epoch[500/500], Loss: 0.0000\n"
          ]
        }
      ]
    },
    {
      "cell_type": "markdown",
      "source": [
        "#**Result Visualization**"
      ],
      "metadata": {
        "id": "VFjSiX1R_7tq"
      }
    },
    {
      "cell_type": "code",
      "source": [
        "predicted = model(torch.from_numpy(x_train)).detach().numpy()\n",
        "plt.plot(x_train, y_train, 'ro', label='Original data')\n",
        "plt.plot(x_train, predicted, label='Fitted line')\n",
        "plt.legend()\n",
        "plt.show()"
      ],
      "metadata": {
        "colab": {
          "base_uri": "https://localhost:8080/",
          "height": 430
        },
        "id": "McgC0r64AAJj",
        "outputId": "31fa1bd5-e585-4caf-9ecb-28e4425ee585"
      },
      "execution_count": 8,
      "outputs": [
        {
          "output_type": "display_data",
          "data": {
            "text/plain": [
              "<Figure size 640x480 with 1 Axes>"
            ],
            "image/png": "[encoded data removed]"
          },
          "metadata": {}
        }
      ]
    },
    {
      "cell_type": "markdown",
      "source": [
        "#**Model Test**"
      ],
      "metadata": {
        "id": "QHEth39TodSQ"
      }
    },
    {
      "cell_type": "code",
      "source": [
        "# model test\n",
        "y_pred = model(torch.from_numpy(x_test)).detach().numpy()\n",
        "print(f'predict y: {y_pred}')"
      ],
      "metadata": {
        "colab": {
          "base_uri": "https://localhost:8080/"
        },
        "id": "QyvQ-IxOAY6D",
        "outputId": "f916b884-7508-4f5c-fbcf-26c94fec65b3"
      },
      "execution_count": 10,
      "outputs": [
        {
          "output_type": "stream",
          "name": "stdout",
          "text": [
            "predict y: [[12.002559]]\n"
          ]
        }
      ]
    }
  ]
}